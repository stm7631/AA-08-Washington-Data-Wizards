{
 "cells": [
  {
   "cell_type": "code",
   "execution_count": 10,
   "metadata": {},
   "outputs": [],
   "source": [
    "# Lots of imports needed\n",
    "import pandas as pd\n",
    "#import numpy as np\n",
    "import geopandas as gpd\n",
    "import json\n",
    "from bokeh.io import output_notebook, show, output_file\n",
    "from bokeh.plotting import figure\n",
    "from bokeh.models import GeoJSONDataSource, LinearColorMapper, ColorBar\n",
    "from bokeh.palettes import brewer\n",
    "from bokeh.io import curdoc, output_notebook\n",
    "from bokeh.models import Slider, HoverTool, CustomJS\n",
    "from bokeh.layouts import widgetbox, row, column\n",
    "from bokeh.models.widgets import Dropdown"
   ]
  },
  {
   "cell_type": "code",
   "execution_count": 3,
   "metadata": {},
   "outputs": [],
   "source": [
    "selectedData = pd.read_csv('../Data/Nigeria/filtered_nigeria_data.csv')"
   ]
  },
  {
   "cell_type": "code",
   "execution_count": 6,
   "metadata": {
    "scrolled": true
   },
   "outputs": [],
   "source": [
    "# loading in geojson\n",
    "shapefile = '../Data/Nigeria/Nigeria_Shape/AFRO_IUs_201812.shp'\n",
    "gdf = gpd.read_file(shapefile)\n",
    "nigeria = gdf[gdf.ADMIN0 == 'Nigeria'].copy()"
   ]
  },
  {
   "cell_type": "code",
   "execution_count": 7,
   "metadata": {},
   "outputs": [],
   "source": [
    "# merging the two data sets\n",
    "merged = nigeria.merge(selectedData, left_on='IUs_NAME', right_on='district_names')\n",
    "# summing up all the requested columns and dividing them by the target population\n",
    "merged['alb_mbd_ratio'] = (merged['lf_alb_total_procured'] + merged['sac_alb_total_procured'] + merged['sth_mbd_total_procured']) / merged['total_treatment_alb_mbd']\n",
    "merged['mbd_ratio'] = (merged['sth_mbd_total_procured']) / merged['total_target_mbd']\n",
    "merged['pzq_ratio'] = merged['pzq_total_procured'] / merged['pzq_total_treatment']\n",
    "merged['ivm_ratio'] = merged['ivm_total_procured'] / merged['ivm_total_treatment']"
   ]
  },
  {
   "cell_type": "code",
   "execution_count": 8,
   "metadata": {},
   "outputs": [],
   "source": [
    "merged.loc[(pd.isna(merged.pzq_ratio)), 'pzq_ratio'] = 0\n",
    "merged.loc[(pd.isna(merged.mbd_ratio)), 'mbd_ratio'] = 0\n",
    "merged.loc[(pd.isna(merged.alb_mbd_ratio)), 'alb_mbd_ratio'] = 0\n",
    "merged.loc[(pd.isna(merged.ivm_ratio)), 'ivm_ratio'] = 0\n",
    "merged.loc[(merged.sth_mbd_total_procured == 0) & (merged.total_target_mbd != 0), 'mbd_ratio'] = None\n",
    "\n"
   ]
  },
  {
   "cell_type": "code",
   "execution_count": 35,
   "metadata": {},
   "outputs": [
    {
     "ename": "TypeError",
     "evalue": "__init__() takes 1 positional argument but 2 were given",
     "output_type": "error",
     "traceback": [
      "\u001b[1;31m---------------------------------------------------------------------------\u001b[0m",
      "\u001b[1;31mTypeError\u001b[0m                                 Traceback (most recent call last)",
      "\u001b[1;32m<ipython-input-35-9654e1a3eac6>\u001b[0m in \u001b[0;36m<module>\u001b[1;34m\u001b[0m\n\u001b[0;32m     49\u001b[0m \u001b[0mdropdown\u001b[0m \u001b[1;33m=\u001b[0m \u001b[0mDropdown\u001b[0m\u001b[1;33m(\u001b[0m\u001b[0mlabel\u001b[0m\u001b[1;33m=\u001b[0m\u001b[1;34m\"Dropdown button\"\u001b[0m\u001b[1;33m,\u001b[0m \u001b[0mbutton_type\u001b[0m\u001b[1;33m=\u001b[0m\u001b[1;34m\"warning\"\u001b[0m\u001b[1;33m,\u001b[0m \u001b[0mmenu\u001b[0m\u001b[1;33m=\u001b[0m\u001b[0mmenu\u001b[0m\u001b[1;33m)\u001b[0m\u001b[1;33m\u001b[0m\u001b[1;33m\u001b[0m\u001b[0m\n\u001b[0;32m     50\u001b[0m \u001b[1;31m#dropdown.on_change('value', update_plot)\u001b[0m\u001b[1;33m\u001b[0m\u001b[1;33m\u001b[0m\u001b[1;33m\u001b[0m\u001b[0m\n\u001b[1;32m---> 51\u001b[1;33m \u001b[0mdropdown\u001b[0m\u001b[1;33m.\u001b[0m\u001b[0mjs_on_change\u001b[0m\u001b[1;33m(\u001b[0m\u001b[1;34m'value'\u001b[0m\u001b[1;33m,\u001b[0m \u001b[0mCustomJS\u001b[0m\u001b[1;33m(\u001b[0m\u001b[0mupdate_plot\u001b[0m\u001b[1;33m)\u001b[0m\u001b[1;33m)\u001b[0m\u001b[1;33m\u001b[0m\u001b[1;33m\u001b[0m\u001b[0m\n\u001b[0m\u001b[0;32m     52\u001b[0m \u001b[1;31m#layout = column(p,widgetbox(slider))\u001b[0m\u001b[1;33m\u001b[0m\u001b[1;33m\u001b[0m\u001b[1;33m\u001b[0m\u001b[0m\n\u001b[0;32m     53\u001b[0m \u001b[1;31m#curdoc().add_root(layout)\u001b[0m\u001b[1;33m\u001b[0m\u001b[1;33m\u001b[0m\u001b[1;33m\u001b[0m\u001b[0m\n",
      "\u001b[1;31mTypeError\u001b[0m: __init__() takes 1 positional argument but 2 were given"
     ]
    }
   ],
   "source": [
    "def changeDist(dist):\n",
    "    if dist == 'all':\n",
    "        new_data = merged\n",
    "    else:\n",
    "        new_data = merged[merged.IUs_NAME == dist]\n",
    "    merged_json = json.loads(merged.to_json())\n",
    "    json_data = json.dumps(merged_json)\n",
    "    return json_data\n",
    "\n",
    "geosource = GeoJSONDataSource(geojson = changeDist('all'))\n",
    "palette = brewer['YlGnBu'][8]\n",
    "palette = palette[::-1]\n",
    "color_mapper = LinearColorMapper(palette = palette, low = 0, high = 2.5, nan_color='#fa0505')\n",
    "\n",
    "color_bar = ColorBar(color_mapper=color_mapper, label_standoff=8,width = 500, height = 20,\n",
    "border_line_color=None,location = (0,0), orientation = 'horizontal')\n",
    "\n",
    "hover = HoverTool(tooltips = [ ('District','@IUs_NAME'),('ratio', '@mbd_ratio')])\n",
    "\n",
    "p = figure(title = 'Test', plot_height = 600 , plot_width = 950, toolbar_location = None, tools=[hover])\n",
    "p.xgrid.grid_line_color = None\n",
    "p.ygrid.grid_line_color = None\n",
    "\n",
    "p.patches('xs','ys', source = geosource,fill_color = {'field' :'mbd_ratio', 'transform' : color_mapper},\n",
    "          line_color = 'black', line_width = 0.25, fill_alpha = 1)\n",
    "p.add_layout(color_bar, 'below')\n",
    "\n",
    "def update_plot(attr, old, new):\n",
    "    ctry = slider.value\n",
    "    #new_data = changeDist(ctry)\n",
    "    geosource = new_data\n",
    "    p.title.text = 'MBD Ratio, %d' %ctry\n",
    "menu = []\n",
    "for dist_name in merged.IUs_NAME:\n",
    "    menu.append((dist_name, dist_name))\n",
    "    \n",
    "    \n",
    "###def callback(source=geosource, code=\"\"\"\n",
    "###    var data = source.data;\n",
    "#    var f = cb_obj.value\n",
    "#    var index = data.IUs_NAME.indexOf(f)\n",
    "#    console.log(JSON.parse(data))\n",
    "#    source.change.emit();\n",
    "#\"\"\")\n",
    "    \n",
    "#slider = Slider(title = 'Year',start = 1975, end = 2016, step = 1, value = 2016)\n",
    "#slider.on_change('value', update_plot)\n",
    "    \n",
    "dropdown = Dropdown(label=\"Dropdown button\", button_type=\"warning\", menu=menu)\n",
    "#dropdown.on_change('value', update_plot)\n",
    "dropdown.js_on_change('value', CustomJS(update_plot))\n",
    "#layout = column(p,widgetbox(slider))\n",
    "#curdoc().add_root(layout)\n",
    "layout = column(dropdown, p)\n",
    "#curdoc().add_root(layout)\n",
    "\n",
    "#output_notebook()\n",
    "show(layout)\n",
    "#show(dropdown)"
   ]
  }
 ],
 "metadata": {
  "kernelspec": {
   "display_name": "Python 3",
   "language": "python",
   "name": "python3"
  },
  "language_info": {
   "codemirror_mode": {
    "name": "ipython",
    "version": 3
   },
   "file_extension": ".py",
   "mimetype": "text/x-python",
   "name": "python",
   "nbconvert_exporter": "python",
   "pygments_lexer": "ipython3",
   "version": "3.7.4"
  }
 },
 "nbformat": 4,
 "nbformat_minor": 2
}
